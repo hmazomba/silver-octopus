{
 "cells": [
  {
   "cell_type": "code",
   "execution_count": null,
   "metadata": {},
   "outputs": [],
   "source": [
    "import os\n",
    "from dotenv import load_dotenv\n",
    "\n",
    "load_dotenv()\n",
    "\n",
    "HF_TOKEN = os.getenv('HF_TOKEN')"
   ]
  },
  {
   "cell_type": "code",
   "execution_count": null,
   "metadata": {},
   "outputs": [],
   "source": [
    "from litellm import completion \n",
    "\n",
    "model = \"deepset/deberta-v3-large-squad2\"\n",
    "messages = [{\"role\": \"user\", \"content\": \"Hey, how's it going?\"}] # LiteLLM follows the OpenAI format \n",
    "\n",
    "### CALLING ENDPOINT\n",
    "completion(model=model, messages=messages, custom_llm_provider=\"huggingface\")"
   ]
  }
 ],
 "metadata": {
  "language_info": {
   "name": "python"
  },
  "orig_nbformat": 4
 },
 "nbformat": 4,
 "nbformat_minor": 2
}
